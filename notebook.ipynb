{
 "cells": [
  {
   "cell_type": "code",
   "execution_count": 6,
   "id": "80f2a2cb",
   "metadata": {},
   "outputs": [
    {
     "name": "stdout",
     "output_type": "stream",
     "text": [
      "Hello, Adam!\n"
     ]
    }
   ],
   "source": [
    "# Optionally enable autoreload to reflect code changes automatically\n",
    "# %load_ext autoreload\n",
    "# %autoreload 2\n",
    "%reload_ext autoreload\n",
    "\n",
    "# Import the class from the subpackage\n",
    "from mypackage.greeter import Greeter\n",
    "\n",
    "# Use the class\n",
    "g = Greeter('Adam')\n",
    "print(g.say_hello())"
   ]
  }
 ],
 "metadata": {
  "kernelspec": {
   "display_name": "venv",
   "language": "python",
   "name": "python3"
  },
  "language_info": {
   "codemirror_mode": {
    "name": "ipython",
    "version": 3
   },
   "file_extension": ".py",
   "mimetype": "text/x-python",
   "name": "python",
   "nbconvert_exporter": "python",
   "pygments_lexer": "ipython3",
   "version": "3.10.12"
  }
 },
 "nbformat": 4,
 "nbformat_minor": 5
}
